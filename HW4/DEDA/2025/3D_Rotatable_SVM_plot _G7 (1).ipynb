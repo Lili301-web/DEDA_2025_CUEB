{
 "cells": [
  {
   "cell_type": "code",
   "execution_count": 3,
   "id": "63b481df-72ec-44b1-aada-2491eb6b044c",
   "metadata": {},
   "outputs": [
    {
     "ename": "AttributeError",
     "evalue": "module 'plotly.io' has no attribute 'offline'",
     "output_type": "error",
     "traceback": [
      "\u001b[1;31m---------------------------------------------------------------------------\u001b[0m",
      "\u001b[1;31mAttributeError\u001b[0m                            Traceback (most recent call last)",
      "Cell \u001b[1;32mIn[3], line 57\u001b[0m\n\u001b[0;32m     39\u001b[0m fig\u001b[38;5;241m.\u001b[39mupdate_layout(\n\u001b[0;32m     40\u001b[0m     title\u001b[38;5;241m=\u001b[39m\u001b[38;5;124m'\u001b[39m\u001b[38;5;124m3D Data Transformation (Interactive View)\u001b[39m\u001b[38;5;124m'\u001b[39m,\n\u001b[0;32m     41\u001b[0m     scene\u001b[38;5;241m=\u001b[39m\u001b[38;5;28mdict\u001b[39m(\n\u001b[1;32m   (...)\u001b[0m\n\u001b[0;32m     53\u001b[0m     paper_bgcolor\u001b[38;5;241m=\u001b[39m\u001b[38;5;124m'\u001b[39m\u001b[38;5;124mwhite\u001b[39m\u001b[38;5;124m'\u001b[39m  \u001b[38;5;66;03m# White paper background\u001b[39;00m\n\u001b[0;32m     54\u001b[0m )\n\u001b[0;32m     56\u001b[0m pio\u001b[38;5;241m.\u001b[39mwrite_html(fig, file\u001b[38;5;241m=\u001b[39m\u001b[38;5;124m'\u001b[39m\u001b[38;5;124minteractive_3D_plot.html\u001b[39m\u001b[38;5;124m'\u001b[39m, auto_open\u001b[38;5;241m=\u001b[39m\u001b[38;5;28;01mTrue\u001b[39;00m)\n\u001b[1;32m---> 57\u001b[0m pio\u001b[38;5;241m.\u001b[39moffline\u001b[38;5;241m.\u001b[39mplot(fig, filename \u001b[38;5;241m=\u001b[39m \u001b[38;5;124m'\u001b[39m\u001b[38;5;124mGroup7_sVM_GIF.html\u001b[39m\u001b[38;5;124m'\u001b[39m, auto_open \u001b[38;5;241m=\u001b[39m \u001b[38;5;28;01mTrue\u001b[39;00m, image \u001b[38;5;241m=\u001b[39m \u001b[38;5;124m'\u001b[39m\u001b[38;5;124mpng\u001b[39m\u001b[38;5;124m'\u001b[39m)\n",
      "File \u001b[1;32mC:\\ProgramData\\anaconda3\\Lib\\site-packages\\_plotly_utils\\importers.py:39\u001b[0m, in \u001b[0;36mrelative_import.<locals>.__getattr__\u001b[1;34m(import_name)\u001b[0m\n\u001b[0;32m     36\u001b[0m     class_module \u001b[38;5;241m=\u001b[39m importlib\u001b[38;5;241m.\u001b[39mimport_module(rel_module, parent_name)\n\u001b[0;32m     37\u001b[0m     \u001b[38;5;28;01mreturn\u001b[39;00m \u001b[38;5;28mgetattr\u001b[39m(class_module, class_name)\n\u001b[1;32m---> 39\u001b[0m \u001b[38;5;28;01mraise\u001b[39;00m \u001b[38;5;167;01mAttributeError\u001b[39;00m(\n\u001b[0;32m     40\u001b[0m     \u001b[38;5;124m\"\u001b[39m\u001b[38;5;124mmodule \u001b[39m\u001b[38;5;132;01m{__name__!r}\u001b[39;00m\u001b[38;5;124m has no attribute \u001b[39m\u001b[38;5;132;01m{name!r}\u001b[39;00m\u001b[38;5;124m\"\u001b[39m\u001b[38;5;241m.\u001b[39mformat(\n\u001b[0;32m     41\u001b[0m         name\u001b[38;5;241m=\u001b[39mimport_name, \u001b[38;5;18m__name__\u001b[39m\u001b[38;5;241m=\u001b[39mparent_name\n\u001b[0;32m     42\u001b[0m     )\n\u001b[0;32m     43\u001b[0m )\n",
      "\u001b[1;31mAttributeError\u001b[0m: module 'plotly.io' has no attribute 'offline'"
     ]
    }
   ],
   "source": [
    "import pandas as pd\n",
    "import numpy as np\n",
    "from matplotlib.animation import FuncAnimation\n",
    "from IPython.display import HTML\n",
    "import matplotlib.pyplot as plt\n",
    "from mpl_toolkits.mplot3d import Axes3D\n",
    "import plotly.graph_objects as go\n",
    "import plotly.io as pio\n",
    "\n",
    "# Generate data\n",
    "np.random.seed(0)\n",
    "x1 = np.random.uniform(-2, 2, 100)\n",
    "x2 = np.random.uniform(-2, 2, 100)\n",
    "y = np.where(x2 > -0.5 * x1**2 + 1, 1, 0)\n",
    "\n",
    "# Transformation function\n",
    "def transform(x1, x2):\n",
    "    z1 = x1**2\n",
    "    z2 = np.sqrt(2) * x1 * x2\n",
    "    z3 = x2**2\n",
    "    return z1, z2, z3\n",
    "\n",
    "z1, z2, z3 = transform(x1, x2)\n",
    "\n",
    "fig = go.Figure(data=[go.Scatter3d(\n",
    "    x=z1,\n",
    "    y=z2,\n",
    "    z=z3,\n",
    "    mode='markers',\n",
    "    marker=dict(\n",
    "        size=12,  # Increased marker size\n",
    "        color=y,\n",
    "        colorscale='Plasma',  # Changed colorscale\n",
    "        opacity=0.9,  # Increased opacity\n",
    "        line=dict(width=1, color='DarkSlateGrey')  # Added border\n",
    "    )\n",
    ")])\n",
    "\n",
    "fig.update_layout(\n",
    "    title='3D Data Transformation (Interactive View)',\n",
    "    scene=dict(\n",
    "        xaxis_title='z1 = x1²',\n",
    "        yaxis_title='z2 = √2·x1·x2',\n",
    "        zaxis_title='z3 = x2²',\n",
    "        xaxis=dict(gridcolor='rgb(200, 200, 200)'),\n",
    "        yaxis=dict(gridcolor='rgb(200, 200, 200)'),\n",
    "        zaxis=dict(gridcolor='rgb(200, 200, 200)'),\n",
    "        bgcolor='rgb(245, 245, 245)'  # Light gray background\n",
    "    ),\n",
    "    width=1400,  # Increased width\n",
    "    height=1000,  # Increased height\n",
    "    margin=dict(l=50, r=50, b=50, t=50),  # Adjusted margins\n",
    "    paper_bgcolor='white'  # White paper background\n",
    ")\n",
    "\n",
    "pio.write_html(fig, file='interactive_3D_plot.html', auto_open=True)\n",
    "pio.offline.plot(fig, filename = 'Group7_sVM_GIF.html', auto_open = True, image = 'png')"
   ]
  },
  {
   "cell_type": "code",
   "execution_count": null,
   "id": "8f69af51-6a4f-4e40-a642-32ef70c87c6f",
   "metadata": {},
   "outputs": [],
   "source": []
  }
 ],
 "metadata": {
  "kernelspec": {
   "display_name": "Python 3 (ipykernel)",
   "language": "python",
   "name": "python3"
  },
  "language_info": {
   "codemirror_mode": {
    "name": "ipython",
    "version": 3
   },
   "file_extension": ".py",
   "mimetype": "text/x-python",
   "name": "python",
   "nbconvert_exporter": "python",
   "pygments_lexer": "ipython3",
   "version": "3.13.5"
  }
 },
 "nbformat": 4,
 "nbformat_minor": 5
}
